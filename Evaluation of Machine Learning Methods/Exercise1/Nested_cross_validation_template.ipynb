{
 "cells": [
  {
   "cell_type": "markdown",
   "metadata": {},
   "source": [
    "# 1. Nested cross-validation exercise\n",
    "## Nested cross-validation for feature selection with nearest neighbors <br>\n",
    "- Use Python 3 to program both a hyper-parameter selection method based on 5-fold cross-validation and a nested 5-fold cross-validation for estimating the prediction performance of models inferred with this automatic selection approach. Use base learning algorithm provided in the exercise, namely the \"use_ith_feature\" method, so that the value of the hyper-parameter i is automatically selected from the range from 1 to 100 of alternative values. The provided base learning algorithm \"use_ith_feature\" is 1-nearest neighbor that uses only the ith feature of the data given to it. The 5-fold CV based hyper-parameter selection procedure is supposed to select the best feature, e.g. the value of i, based on C-index evaluated with predictions obtained with 5-fold cross-validation. A ready-made implementation of C-index is also provided in the exercise. In nested 5-fold cross-validation, a C_index value is further evaluated on the predictions obtained from an outer 5-fold cross-validation. During each round of this outer 5-fold CV, the whole feature selection process based on inner 5-fold CV is separately done and the selected feature is used for prediction for the test data points held out during that round of the outer CV. Accordingly, the actual learning algorithm, whose prediction performance will be evaluated with nested CV, is the one that automatically selects the single best feature with 5-fold cross-validation based model selection (see the lectures and the pseudo codes presented on them for more info on this interpretation).\n",
    "- Compare the C-index produced by nested 5-fold CV with the result of ordinary 5-fold CV with the best value of i e.g. the feature providing the highest 5-fold CV C-index, and show the C-index difference between the two methods.\n",
    "- Use the provided implementation of the \"use_ith_feature\" learning algorithm and C-index functions in your exercise.\n",
    "\n",
    "As a summary, for completing this exercise implement the following steps: \n",
    "_______________________________________________________________\n",
    "#### 1. Use 5-fold cross-validation for determining the optimal i-parameter for the data (X_train.csv, y_prediction.csv) from the set of possible values of i e.g. {1,...,100}. When you have found the optimal i, save the corresponding C-index (call it 5_fold_c_index) for this parameter.\n",
    "#### 2. Similarly, use nested cross-validation ( 5-fold CV both in outer and inner folds) for estimating the C-index (call it n_5_fold_c_index) of the method that selects the best feature with 5-fold approach. \n",
    "#### 3. Return both this notebook and as a PDF-file made from it in the exercise submit page. \n",
    "_______________________________________________________________\n",
    "\n",
    "Remember to use the provided learning algorithm use_ith_feature and C-index functions in your implementation! "
   ]
  },
  {
   "cell_type": "markdown",
   "metadata": {},
   "source": [
    "## Import libraries"
   ]
  },
  {
   "cell_type": "code",
   "execution_count": 1,
   "metadata": {},
   "outputs": [],
   "source": [
    "#In this cell import all libraries you need. For example: \n",
    "import numpy as np\n",
    "import pandas as pd # for data manipulation\n",
    "\n",
    "from sklearn.model_selection import KFold # for cross-validation"
   ]
  },
  {
   "cell_type": "markdown",
   "metadata": {},
   "source": [
    "## Provided functions "
   ]
  },
  {
   "cell_type": "code",
   "execution_count": 2,
   "metadata": {},
   "outputs": [],
   "source": [
    "\"\"\"\n",
    "C-index function: \n",
    "- INPUTS: \n",
    "'y' an array of the true output values\n",
    "'yp' an array of predicted output values\n",
    "- OUTPUT: \n",
    "The c-index value\n",
    "\"\"\"\n",
    "def cindex(y, yp):\n",
    "    n = 0\n",
    "    h_num = 0 \n",
    "    for i in range(0, len(y)):\n",
    "        t = y[i]\n",
    "        p = yp[i]\n",
    "        for j in range(i+1, len(y)):\n",
    "            nt = y[j]\n",
    "            np = yp[j]\n",
    "            if (t != nt): \n",
    "                n = n + 1\n",
    "                if (p < np and t < nt) or (p > np and t > nt): \n",
    "                    h_num += 1\n",
    "                elif (p == np):\n",
    "                    h_num += 0.5\n",
    "    return h_num/n\n",
    "\n",
    "\"\"\"\n",
    "Self-contained 1-nearest neighbor using only a single feature\n",
    "- INPUTS: \n",
    "'X_train' a numpy matrix of the X-features of the train data points\n",
    "'y_train' a numpy matrix of the output values of the train data points\n",
    "'X_test' a numpy matrix of the X-features of the test data points\n",
    "'i' the index of the feature to be used with 1-nearest neighbor\n",
    "- OUTPUT: \n",
    "'y_predictions' a list of the output value predictions\n",
    "\"\"\"\n",
    "def use_ith_feature(X_train, y_train, X_test, i):\n",
    "    y_predictions = []\n",
    "    for test_ind in range(0, X_test.shape[0]):\n",
    "        diff = X_test[test_ind, i] - X_train[:, i]\n",
    "        distances = np.sqrt(diff * diff)\n",
    "        sort_inds = np.array(np.argsort(distances), dtype=int)\n",
    "        y_predictions.append(y_train[sort_inds[0]])\n",
    "    return y_predictions\n"
   ]
  },
  {
   "cell_type": "markdown",
   "metadata": {},
   "source": [
    "## Your implementation here"
   ]
  },
  {
   "cell_type": "code",
   "execution_count": 3,
   "metadata": {},
   "outputs": [
    {
     "name": "stdout",
     "output_type": "stream",
     "text": [
      "0.9666666666666667\n"
     ]
    }
   ],
   "source": [
    "# In this cell implement the required tasks\n",
    "# Read the csv files, data does not contain headers(column names).\n",
    "# Dimension of X_train.csv is (30, 100) and for y_prediction.csv is (30, 1)\n",
    "\n",
    "#Let's first read our data.\n",
    "train_data = pd.read_csv(\"X_train.csv\", header=None)\n",
    "predict_data = pd.read_csv(\"y_prediction.csv\", header=None)\n",
    "\n",
    "#Let's turn our dataframes into numpy arrays so they split correctly\n",
    "train_data = train_data.to_numpy()\n",
    "predict_data = predict_data.to_numpy()\n",
    "    \n",
    "#Initializing our k-folds\n",
    "kfold = KFold(n_splits=5, shuffle=True, random_state=1)\n",
    "                           \n",
    "#Splitting training data into train and test Source https://machinelearningmastery.com/train-test-split-for-evaluating-machine-learning-algorithms/\n",
    "for train, test in kfold.split(train_data, predict_data):\n",
    "    X_train, X_test = train_data[train], train_data[test]\n",
    "    y_train, y_test = predict_data[train], predict_data[test]\n",
    "\n",
    "\n",
    "#Let's create an empty dictionary to save our c-indexes by i values\n",
    "c_to_i = {}\n",
    "\n",
    "#Let's then iterate through our all i values from 1 to 100, use those in calculating the c indexes and saving our results in our empty dictionary for them.\n",
    "\n",
    "for i in range (1,100):\n",
    "    y_pred = use_ith_feature(X_train, y_train, X_test, i)\n",
    "    c_value = cindex(y_test, y_pred)\n",
    "    c_to_i.update({i : c_value})\n",
    "\n",
    "#Now we can find our most optimal C-index, which is the largest one. Easy way is to create a sorted copy of the dictionary and choose the last one.\n",
    "c_sorted = sorted(c_to_i.items(), key=lambda x:x[1])\n",
    "\n",
    "#Last one is that the index of length minus one.\n",
    "#So best i value is 19 with a C of 0.96...\n",
    "five_fold_c_index = c_sorted[len(c_sorted)-1][1]\n",
    "print(five_fold_c_index)"
   ]
  },
  {
   "cell_type": "markdown",
   "metadata": {},
   "source": [
    "<p> By using the 5-fold cross-validation, we got the best i value as 19 with a c value of 0.966... </p>"
   ]
  },
  {
   "cell_type": "code",
   "execution_count": 4,
   "metadata": {},
   "outputs": [
    {
     "name": "stdout",
     "output_type": "stream",
     "text": [
      "1.0\n"
     ]
    }
   ],
   "source": [
    "#Now let's utilize nested cross-validation by starting with the outer fold.\n",
    "outer_kfold = KFold(n_splits=5, shuffle=True, random_state=1)\n",
    "\n",
    "#Empty dictionary to save our c-indexes by i values\n",
    "c_to_i = {}\n",
    "\n",
    "#Utilizing the earlier split, but this time we do it twice as both outer and inner versions.\n",
    "for train, test in outer_kfold.split(train_data, predict_data):\n",
    "    X_train, X_test = train_data[train], train_data[test]\n",
    "    y_train, y_test = predict_data[train], predict_data[test]\n",
    "    \n",
    "    inner_kfold = KFold(n_splits=5, shuffle=True, random_state=1)\n",
    "    \n",
    "    for i in range(1,100):\n",
    "        for inner_train, inner_test in inner_kfold.split(X_train, y_train):\n",
    "            X_inner_train, X_inner_test = X_train[inner_train], X_train[inner_test]\n",
    "            y_inner_train, y_inner_test = y_train[inner_train], y_train[inner_test]\n",
    "        \n",
    "            y_inner_pred = use_ith_feature(X_inner_train, y_inner_train, X_inner_test, i)\n",
    "            c_value = cindex(y_inner_test, y_inner_pred)\n",
    "            c_to_i.update({i : c_value})\n",
    "            \n",
    "#Now we can find our most optimal C-index, which is the largest one. Easy way is to create a sorted copy of the dictionary and choose the last one.\n",
    "c_sorted = sorted(c_to_i.items(), key=lambda x:x[1])\n",
    "\n",
    "#Last one is that the index of length minus one.\n",
    "#So best i value is 29 with a C of 1\n",
    "n_five_fold_c_index = c_sorted[len(c_sorted)-1][1]\n",
    "print(n_five_fold_c_index)"
   ]
  },
  {
   "cell_type": "markdown",
   "metadata": {},
   "source": [
    "<p> By using the nested 5-fold cross-validation, we find out that the best i value is 29 with a C value of 1. </p>\n"
   ]
  }
 ],
 "metadata": {
  "kernelspec": {
   "display_name": "Python 3 (ipykernel)",
   "language": "python",
   "name": "python3"
  },
  "language_info": {
   "codemirror_mode": {
    "name": "ipython",
    "version": 3
   },
   "file_extension": ".py",
   "mimetype": "text/x-python",
   "name": "python",
   "nbconvert_exporter": "python",
   "pygments_lexer": "ipython3",
   "version": "3.10.1"
  },
  "toc": {
   "base_numbering": 1,
   "nav_menu": {},
   "number_sections": false,
   "sideBar": true,
   "skip_h1_title": false,
   "title_cell": "Table of Contents",
   "title_sidebar": "Contents",
   "toc_cell": false,
   "toc_position": {},
   "toc_section_display": true,
   "toc_window_display": true
  },
  "varInspector": {
   "cols": {
    "lenName": 16,
    "lenType": 16,
    "lenVar": 40
   },
   "kernels_config": {
    "python": {
     "delete_cmd_postfix": "",
     "delete_cmd_prefix": "del ",
     "library": "var_list.py",
     "varRefreshCmd": "print(var_dic_list())"
    },
    "r": {
     "delete_cmd_postfix": ") ",
     "delete_cmd_prefix": "rm(",
     "library": "var_list.r",
     "varRefreshCmd": "cat(var_dic_list()) "
    }
   },
   "types_to_exclude": [
    "module",
    "function",
    "builtin_function_or_method",
    "instance",
    "_Feature"
   ],
   "window_display": false
  }
 },
 "nbformat": 4,
 "nbformat_minor": 4
}
