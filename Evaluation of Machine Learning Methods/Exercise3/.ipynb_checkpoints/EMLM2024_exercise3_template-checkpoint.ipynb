{
 "cells": [
  {
   "cell_type": "markdown",
   "metadata": {},
   "source": [
    "# Exercise 3 | TKO_7092 Evaluation of Machine Learning Methods 2024\n",
    "## deadline: 14.2.2024 - 23:59\n",
    "\n",
    "Regarding any questions about this exercise, please contact course assistant Jonne Pohjankukka (jjepoh@utu.fi)\n",
    "\n",
    "********************************************\n",
    "\n",
    "Student name: Aleksi Pikkarainen\n",
    "\n",
    "Student number: 519153\n",
    "\n",
    "Student email: akpikk@utu.fi\n",
    "\n",
    "********************************************"
   ]
  },
  {
   "cell_type": "markdown",
   "metadata": {},
   "source": [
    "## Water permeability prediction in forestry <br>\n",
    "\n",
    "In this task, the client wants you to estimate the spatial prediction performance of K-nearest neighbor regression model with K=15 (15NN), using spatial leave-one-out cross-validation (i.e. SKCV, with number of folds == number of data points). The client wants you to use the C-index as the performance measure.  \n",
    "\n",
    "In other words, the client wants you to answer the question: \"What happens to the prediction performance of water permeability using 15-nearest neighbor regression model, when the geographical distance between known data and unknown data increases?\".\n",
    "\n",
    "In this task, you have three data files available (with 1691 data points): \n",
    "\n",
    "- input.csv, contains the 75 predictor features. \n",
    "- output.csv, contains the water permebility values. \n",
    "- coordinates.csv, contains the corresponding geographical coordinate locations of the data points. The unit of the coordinates is metre, and you can use Euclidean distance to calculate distances between the coordinate points. \n",
    "\n",
    "Implement the following tasks to complete this exercise:\n",
    "\n",
    "********************************************\n",
    "\n",
    "#### 1. Z-score standardize the predictor features (input.csv). \n",
    "\n",
    "#### 2. Perform spatial leave-one-out cross-validation with 15NN model for the provided data set (refer to the lectures 3.1.3 and 3.1.4 for help). Estimate the water permeability prediction performance (using 15NN model and C-index) with the following distance parameter values: d = 0, 10, 20, ..., 250 (that is, 10 meter intervals from 0m to 250m). \n",
    "\n",
    "#### 3. When you have calculated the C-index performance measure for each value of d, visualize the results with the C-index (y-axis) as a function of d (x-axis).\n",
    "\n",
    "********************************************\n",
    "\n",
    "Your .ipynb-file must include the following: \n",
    "\n",
    "- Your own implementation of the spatial leave-one-out cross-validation for the current task. You can use third-party libraries (e.g. Scikit-learn) if you want for implementing e.g. the 15-nearest neighbor. Also, try to follow good programming practices and add comments to relevant parts of your code explaining what you are doing and why.\n",
    "\n",
    "\n",
    "- Plot of the graph C-index vs. distance parameter value. \n",
    "\n",
    "\n",
    "<br><br><br>\n",
    "-- START IMPLEMENTING YOUR EXERCISE AFTER THIS LINE --\n",
    "<br><br><br>"
   ]
  },
  {
   "cell_type": "markdown",
   "metadata": {},
   "source": [
    "### Import necessary libraries"
   ]
  },
  {
   "cell_type": "code",
   "execution_count": 11,
   "metadata": {},
   "outputs": [],
   "source": [
    "# In this cell, import all the libraries that you need. For example: \n",
    "import numpy as np\n",
    "import pandas as pd\n",
    "import matplotlib.pyplot as plt\n",
    "from scipy.stats import zscore\n",
    "from sklearn.model_selection import LeaveOneOut\n",
    "from sklearn.neighbors import KNeighborsRegressor"
   ]
  },
  {
   "cell_type": "markdown",
   "metadata": {},
   "source": [
    "### Read in the datasets"
   ]
  },
  {
   "cell_type": "code",
   "execution_count": 12,
   "metadata": {},
   "outputs": [
    {
     "name": "stdout",
     "output_type": "stream",
     "text": [
      "(1691, 75) (1691, 1) (1691, 2)\n"
     ]
    }
   ],
   "source": [
    "# In this cell, read the files input.csv, output.csv and coordinates.csv.\n",
    "# Print out the dataset dimesions (i.e. number of rows and columns).\n",
    "inputs = pd.read_csv(\"input.csv\", header=None)\n",
    "outputs = pd.read_csv(\"output.csv\", header=None)\n",
    "coordinates = pd.read_csv(\"coordinates.csv\", header=None)\n",
    "print(inputs.shape, outputs.shape, coordinates.shape)"
   ]
  },
  {
   "cell_type": "markdown",
   "metadata": {},
   "source": [
    "### Standardization of the predictor features (input.csv)"
   ]
  },
  {
   "cell_type": "code",
   "execution_count": 13,
   "metadata": {},
   "outputs": [],
   "source": [
    "# Standardize the predictor features (input.csv) by removing the mean and scaling to unit variance. \n",
    "# In other words, z-score the predictor features. You are allowed to use third-party libraries for doing this. \n",
    "inputs = inputs.apply(zscore)"
   ]
  },
  {
   "cell_type": "markdown",
   "metadata": {},
   "source": [
    "### Functions and analysis code"
   ]
  },
  {
   "cell_type": "code",
   "execution_count": 14,
   "metadata": {},
   "outputs": [],
   "source": [
    "# Include here all the functions and other relevant code that you need in order to implement the task.\n",
    "\n",
    "# Note! Utilize the following two functions in your implementation:\n",
    "\n",
    "### Function for calculating C-index ###\n",
    "# y: array containing true label values.\n",
    "# yp: array containing the predicted label values.\n",
    "def cindex(y, yp):\n",
    "    n = 0\n",
    "    h_num = 0 \n",
    "    for i in range(0, len(y)):\n",
    "        t = y[i]\n",
    "        p = yp[i]\n",
    "        for j in range(i+1, len(y)):\n",
    "            nt = y[j]\n",
    "            np = yp[j]\n",
    "            if (t != nt): \n",
    "                n = n + 1\n",
    "                if (p < np and t < nt) or (p > np and t > nt): \n",
    "                    h_num += 1\n",
    "                elif (p == np):\n",
    "                    h_num += 0.5\n",
    "\n",
    "    return h_num/n\n",
    "\n",
    "    \n",
    "\n",
    "\n",
    "### Function for calculating the pairwise spatial distances between the data points ###\n",
    "# The function will return a n-by-n matrix of Euclidean distances. For example, the\n",
    "# distance_matrix element at indices i,j will contain the spatial distance between \n",
    "# data point i and j. Note that the element value is 0 always when i==j.\n",
    "# coordinate_array: n-by-2 array containing the coordinates of the exercise data points.\n",
    "def cdists(coordinate_array):\n",
    "    number_of_observations = coordinate_array.shape[0]\n",
    "    distance_matrix = np.zeros((number_of_observations, number_of_observations))\n",
    "    for i in range(0, number_of_observations):\n",
    "        distance_matrix[i, :] = np.sqrt(np.sum((coordinate_array - coordinate_array[i])**2, axis=1))\n",
    "    return distance_matrix"
   ]
  },
  {
   "cell_type": "markdown",
   "metadata": {},
   "source": [
    "### Results for spatial leave-one-out cross-validation with 15-nearest neighbor regression model"
   ]
  },
  {
   "cell_type": "code",
   "execution_count": 132,
   "metadata": {},
   "outputs": [
    {
     "name": "stdout",
     "output_type": "stream",
     "text": [
      "d of 0 is ready\n",
      "d of 10 is ready\n",
      "d of 20 is ready\n",
      "d of 30 is ready\n",
      "d of 40 is ready\n",
      "d of 50 is ready\n",
      "d of 60 is ready\n",
      "d of 70 is ready\n",
      "d of 80 is ready\n",
      "d of 90 is ready\n",
      "d of 100 is ready\n",
      "d of 110 is ready\n",
      "d of 120 is ready\n",
      "d of 130 is ready\n",
      "d of 140 is ready\n",
      "d of 150 is ready\n",
      "d of 160 is ready\n",
      "d of 170 is ready\n",
      "d of 180 is ready\n",
      "d of 190 is ready\n",
      "d of 200 is ready\n",
      "d of 210 is ready\n",
      "d of 220 is ready\n",
      "d of 230 is ready\n",
      "d of 240 is ready\n",
      "d of 250 is ready\n"
     ]
    }
   ],
   "source": [
    "# In this cell, run your script for the Spatial leave-One-Out cross-validation \n",
    "# with 15-nearest neighbor regression model and visualize the results as \n",
    "# requested in the task assignment.\n",
    "\n",
    "# Let's turn our pandas dataframes into numpy arrays\n",
    "X = inputs.to_numpy()\n",
    "y = outputs.to_numpy()\n",
    "c = coordinates.to_numpy()\n",
    "\n",
    "# Calculating the pairwise spatial distances\n",
    "coords = cdists(c)\n",
    "\n",
    "# Initializing our Leave-One-Out Cross-Validation\n",
    "loocv = LeaveOneOut()\n",
    "\n",
    "# Initializing our k-Nearest Neighbors model\n",
    "knn = KNeighborsRegressor(n_neighbors=15)\n",
    "\n",
    "# Creating an empty array to store our c-values\n",
    "d_to_c = {}\n",
    "\n",
    "# Iterating from 0 to 250 in increments of 10\n",
    "for d in range(0,260,10):\n",
    "    \n",
    "    # Creating arrays to store actual and predicted values\n",
    "    y_pred = []\n",
    "    y_true = []\n",
    "    \n",
    "    # Performing the standard train-test split\n",
    "    for train, test in loocv.split(X):\n",
    "        X_train, X_test = X[train], X[test]\n",
    "        y_train, y_test = y[train], y[test]\n",
    "        \n",
    "        # Filtering out data points, where they are closer than d to the observed points.\n",
    "        mask = (coords[test])[0]\n",
    "        distance_mask = np.where(mask > d)\n",
    "        test2 = distance_mask[0][:-1]\n",
    "        \n",
    "        # Fitting our model with those indexes.\n",
    "        knn.fit(X_train[test2], y_train[test2])\n",
    "        \n",
    "        # Predicting using our model.\n",
    "        pred_labels = knn.predict(X_test)\n",
    "        \n",
    "        #Adding our predictions and actual values to corresponding arrays.\n",
    "        y_true.append(y_test)\n",
    "        y_pred.append(pred_labels)\n",
    "    \n",
    "    \n",
    "    # Adding our results to the empty array as a dictionary\n",
    "    d_to_c.update({d : cindex(y_true, y_pred)})\n",
    "    \n",
    "    ## This takes ages so I put this here to know when I can continue    \n",
    "    print(f\"d of {d} is ready\")\n",
    "    \n",
    "\n",
    "        \n",
    "        \n"
   ]
  },
  {
   "cell_type": "code",
   "execution_count": 135,
   "metadata": {},
   "outputs": [
    {
     "data": {
      "image/png": "[encoded data removed]",
      "text/plain": [
       "<Figure size 640x480 with 1 Axes>"
      ]
     },
     "metadata": {},
     "output_type": "display_data"
    }
   ],
   "source": [
    "# Plotting our findings using the pyplot\n",
    "\n",
    "plt.plot(d_to_c.keys(), d_to_c.values())\n",
    "plt.xlabel(\"distance parameter\")\n",
    "plt.ylabel(\"C value\")\n",
    "plt.show()"
   ]
  },
  {
   "cell_type": "markdown",
   "metadata": {},
   "source": [
    "### Interpretation of the results"
   ]
  },
  {
   "cell_type": "code",
   "execution_count": null,
   "metadata": {},
   "outputs": [],
   "source": [
    "# In this cell, give a brief commentary on the results, what happens to the prediction \n",
    "# performance as the prediction distance increases?"
   ]
  },
  {
   "cell_type": "markdown",
   "metadata": {},
   "source": [
    "<p> The prediction performance decreases slowly with distance until after a distance of 100, when it starts decreasing more intensely. After about 130 it continues decreasing even slower than in the beginning. </p>"
   ]
  }
 ],
 "metadata": {
  "kernelspec": {
   "display_name": "Python 3 (ipykernel)",
   "language": "python",
   "name": "python3"
  },
  "language_info": {
   "codemirror_mode": {
    "name": "ipython",
    "version": 3
   },
   "file_extension": ".py",
   "mimetype": "text/x-python",
   "name": "python",
   "nbconvert_exporter": "python",
   "pygments_lexer": "ipython3",
   "version": "3.10.1"
  },
  "toc": {
   "base_numbering": 1,
   "nav_menu": {},
   "number_sections": false,
   "sideBar": true,
   "skip_h1_title": false,
   "title_cell": "Table of Contents",
   "title_sidebar": "Contents",
   "toc_cell": false,
   "toc_position": {},
   "toc_section_display": true,
   "toc_window_display": true
  },
  "varInspector": {
   "cols": {
    "lenName": 16,
    "lenType": 16,
    "lenVar": 40
   },
   "kernels_config": {
    "python": {
     "delete_cmd_postfix": "",
     "delete_cmd_prefix": "del ",
     "library": "var_list.py",
     "varRefreshCmd": "print(var_dic_list())"
    },
    "r": {
     "delete_cmd_postfix": ") ",
     "delete_cmd_prefix": "rm(",
     "library": "var_list.r",
     "varRefreshCmd": "cat(var_dic_list()) "
    }
   },
   "types_to_exclude": [
    "module",
    "function",
    "builtin_function_or_method",
    "instance",
    "_Feature"
   ],
   "window_display": false
  }
 },
 "nbformat": 4,
 "nbformat_minor": 4
}
