{
 "cells": [
  {
   "cell_type": "markdown",
   "metadata": {},
   "source": [
    "Student name: Aleksi Pikkarainen <br>\n",
    "Student number 519153 <br>\n",
    "February 5th 2024  <br>"
   ]
  },
  {
   "cell_type": "markdown",
   "metadata": {},
   "source": [
    "# Exercise 2 | TKO_7092 Evaluation of Machine Learning Methods 2024"
   ]
  },
  {
   "cell_type": "markdown",
   "metadata": {},
   "source": [
    "### Prediction of the metal ion content from multi-parameter data\n",
    "<b> Use K-Nearest Neighbor Regression with euclidean distance to predict total metal concentration (c_total), concentration of Cadmium (Cd) and concentration of Lead (Pb), using number of neighbors k = 1, 3, 5, 7.</b> <br>\n",
    "\n",
    "<b> Instructions: </b> \n",
    "\n",
    "    - You may use Nearest Neighbor Regression from https://scikit-learn.org/stable/modules/neighbors.html\n",
    "    - The data should be standarized using z-score (using sklearn.preprocessing.StandardScaler is advised).\n",
    "    - Implement Leave-One-Out cross-validation and calculate the C-index for each output (c_total, Cd, Pb). \n",
    "    - Implement Leave-Replicas-Out cross-validation and calculate the C-index for each output (c_total, Cd, Pb).\n",
    "    - Explain your code by adding detailed comments. \n",
    "    - Only provide code that is relevant to the exercise.\n",
    "    - Please submit your solution as a Jupyter Notebook (.ipynb) and as a PDF file. Ensure to include your full name in the filename.     \n",
    "    - Submit to moodle your solution on ** Wednesday 7 of February ** at the latest.\n",
    "  \n",
    "<b>Please follow the instructions and note that you are expected to submit your individual solution.<br>\n",
    "Identical or overly similar submissions will result in the exercise being marked as failed.\n",
    "</b>"
   ]
  },
  {
   "cell_type": "markdown",
   "metadata": {},
   "source": [
    "## Import libraries"
   ]
  },
  {
   "cell_type": "code",
   "execution_count": 1,
   "metadata": {
    "tags": []
   },
   "outputs": [],
   "source": [
    "# In this cell import all libraries you need. For example: \n",
    "import numpy as np\n",
    "import pandas as pd\n",
    "import matplotlib.pyplot as plt\n",
    "import matplotlib.patches as mpatches\n",
    "from scipy.stats import zscore\n",
    "from sklearn.model_selection import LeaveOneOut, LeaveOneGroupOut\n",
    "from sklearn import neighbors\n",
    "from lifelines.utils import concordance_index"
   ]
  },
  {
   "cell_type": "markdown",
   "metadata": {},
   "source": [
    "## Read and visualize the dataset"
   ]
  },
  {
   "cell_type": "code",
   "execution_count": 2,
   "metadata": {
    "tags": []
   },
   "outputs": [
    {
     "name": "stdout",
     "output_type": "stream",
     "text": [
      "(268, 6) <bound method NDFrame.head of       Mod1  Mod2    Mod3  c_total      Cd      Pb\n",
      "0     9945   119   72335        0     0.0     0.0\n",
      "1     9596   119  110542        0     0.0     0.0\n",
      "2    10812   120   98594        0     0.0     0.0\n",
      "3    10786   117   82977        0     0.0     0.0\n",
      "4    10566   108  136416       14     0.0    14.0\n",
      "..     ...   ...     ...      ...     ...     ...\n",
      "263  22530  1443    6310     5000  4000.0  1000.0\n",
      "264  23331  4241  140303     5000  5000.0     0.0\n",
      "265  22633  4527  127464     5000  5000.0     0.0\n",
      "266  22655  4467  144188     5000  5000.0     0.0\n",
      "267  23115  4286  149312     5000  5000.0     0.0\n",
      "\n",
      "[268 rows x 6 columns]>\n"
     ]
    }
   ],
   "source": [
    "# In this cell read the file Water_data.csv\n",
    "# Print the dataset dimesions (i.e. number of rows and columns)\n",
    "# Print the first 5 rows of the dataset\n",
    "data = pd.read_csv(\"water_data.csv\")\n",
    "print(data.shape, data.head)"
   ]
  },
  {
   "cell_type": "markdown",
   "metadata": {},
   "source": [
    "## Standardization of the dataset"
   ]
  },
  {
   "cell_type": "code",
   "execution_count": 3,
   "metadata": {
    "tags": []
   },
   "outputs": [
    {
     "name": "stdout",
     "output_type": "stream",
     "text": [
      "<bound method NDFrame.head of          Mod1      Mod2      Mod3  c_total      Cd      Pb\n",
      "0   -0.972283 -0.670482 -0.358179        0     0.0     0.0\n",
      "1   -0.975878 -0.670482  0.259488        0     0.0     0.0\n",
      "2   -0.963351 -0.670394  0.066333        0     0.0     0.0\n",
      "3   -0.963619 -0.670657 -0.186137        0     0.0     0.0\n",
      "4   -0.965885 -0.671447  0.677776       14     0.0    14.0\n",
      "..        ...       ...       ...      ...     ...     ...\n",
      "263 -0.842630 -0.554263 -1.425562     5000  4000.0  1000.0\n",
      "264 -0.834378 -0.308659  0.740615     5000  5000.0     0.0\n",
      "265 -0.841569 -0.283555  0.533055     5000  5000.0     0.0\n",
      "266 -0.841343 -0.288821  0.803421     5000  5000.0     0.0\n",
      "267 -0.836604 -0.304709  0.886257     5000  5000.0     0.0\n",
      "\n",
      "[268 rows x 6 columns]>\n"
     ]
    }
   ],
   "source": [
    "# In this cell, standardize the dataset features by removing the mean and scaling to unit variance. \n",
    "# In other words, use z-score to scale the dataset features (Mod1, Mod2, Mod3) \n",
    "# Print the 5 first samples (i.e. rows) of the scaled dataset\n",
    "features = [\"Mod1\", \"Mod2\", \"Mod3\"]\n",
    "labels = [\"c_total\", \"Cd\", \"Pb\"]\n",
    "data[features] = data[features].apply(zscore)\n",
    "print(data.head)"
   ]
  },
  {
   "cell_type": "markdown",
   "metadata": {},
   "source": [
    "## C-index code "
   ]
  },
  {
   "cell_type": "code",
   "execution_count": 4,
   "metadata": {
    "tags": []
   },
   "outputs": [],
   "source": [
    "# In this cell, implement the C-index function. You may use the implementation from the first exercise.\n",
    "def cindex(y, yp):\n",
    "    \"\"\"Returns C-index between true labels and predicted labels\"\"\" \n",
    "    n = 0\n",
    "    h_num = 0 \n",
    "    for i in range(0, len(y)):\n",
    "        t = y[i]\n",
    "        p = yp[i]\n",
    "        for j in range(i+1, len(y)):\n",
    "            nt = y[j]\n",
    "            np = yp[j]\n",
    "            if (t != nt): \n",
    "                n = n + 1\n",
    "                if (p < np and t < nt) or (p > np and t > nt): \n",
    "                    h_num += 1\n",
    "                elif (p == np):\n",
    "                    h_num += 0.5\n",
    "                    \n",
    "    #Dividing by zero was not an issue last time so I had to modify this part.\n",
    "    if n != 0:\n",
    "        return h_num/n\n",
    "    else: \n",
    "        return 0.0"
   ]
  },
  {
   "cell_type": "code",
   "execution_count": 5,
   "metadata": {},
   "outputs": [
    {
     "name": "stdout",
     "output_type": "stream",
     "text": [
      "0.75\n"
     ]
    }
   ],
   "source": [
    "# Test the cindex function with following values\n",
    "true_labels = np.array([-1, 1, 1, -1, 1])\n",
    "predictions = np.array([0.60, 0.80, 0.75, 0.75, 0.70])\n",
    "cindx = cindex(true_labels, predictions)\n",
    "print(cindx) #For this example, a correct C-index implementation will result in 0.75"
   ]
  },
  {
   "cell_type": "markdown",
   "metadata": {},
   "source": [
    "## Leave-One-Out cross-validation\n",
    "In the following cell, write and execute your code for Leave-One-Out cross-validation using K-Nearest Neighbor Regression with k values of 1, 3, 5, and 7.<br>\n",
    "Print the corresponding Leave-One-Out C-index for c_total, Cd and Pb for each k value."
   ]
  },
  {
   "cell_type": "code",
   "execution_count": 6,
   "metadata": {},
   "outputs": [
    {
     "name": "stdout",
     "output_type": "stream",
     "text": [
      "C-scores for k value of 1: C_total = 0.908, Cd = 0.914, Pb = 0.880\n",
      "C-scores for k value of 3: C_total = 0.920, Cd = 0.912, Pb = 0.885\n",
      "C-scores for k value of 5: C_total = 0.896, Cd = 0.866, Pb = 0.861\n",
      "C-scores for k value of 7: C_total = 0.884, Cd = 0.832, Pb = 0.841\n"
     ]
    }
   ],
   "source": [
    "\n",
    "# our k-values which we will do our k-NN with\n",
    "k_values = (1,3,5,7)\n",
    "\n",
    "# initializiing our Leave-One-Out Cross Validation\n",
    "loocv = LeaveOneOut()\n",
    "\n",
    "# Taking our features and labels and modifying them for easier data extraction\n",
    "inputs = data[features]\n",
    "outputs = data[labels]\n",
    "X = inputs.to_numpy()\n",
    "y = outputs.to_numpy()\n",
    "\n",
    "# Empty array to score our results in for plotting\n",
    "loocv_scores = []\n",
    "\n",
    "# iterating with our k values\n",
    "for k in k_values:\n",
    "    \n",
    "    # empty arrays to save our test labels\n",
    "    c_total_test = []\n",
    "    cd_test = []\n",
    "    pb_test = []\n",
    "\n",
    "    # empty arrays to save our predicted labels\n",
    "    c_total_pred = []\n",
    "    cd_pred = []\n",
    "    pb_pred = []\n",
    "\n",
    "    # performing the standard loocv split for our data\n",
    "    for train, test in loocv.split(data):\n",
    "        X_train, X_test = X[train], X[test]\n",
    "        y_train, y_test = y[train], y[test]\n",
    "        \n",
    "        # initializing the model\n",
    "        knn = neighbors.KNeighborsRegressor(n_neighbors=k)\n",
    "        \n",
    "        # fitting our model\n",
    "        knn.fit(X_train, y_train)\n",
    "        \n",
    "        # predicting on our test data\n",
    "        pred_labels = knn.predict(X_test)\n",
    "        \n",
    "        # adding our test labels by column to their arrays\n",
    "        c_total_test.append(y_test[0][0])\n",
    "        cd_test.append(y_test[0][1])\n",
    "        pb_test.append(y_test[0][2])\n",
    "        \n",
    "        # adding our predicted labels by column to  their arrays\n",
    "        c_total_pred.append(pred_labels[0][0])\n",
    "        cd_pred.append(pred_labels[0][1])\n",
    "        pb_pred.append(pred_labels[0][2])\n",
    "        \n",
    "    # final print \n",
    "    print(f\"C-scores for k value of {k}: C_total = {cindex(c_total_test, c_total_pred):.3f}, Cd = {cindex(cd_test, cd_pred):.3f}, Pb = {cindex(pb_test, pb_pred):.3f}\")  \n",
    "    \n",
    "    # this is not optimal but to save time I'll just do it like this\n",
    "    loocv_scores.append([k,cindex(c_total_test, c_total_pred),cindex(cd_test, cd_pred),cindex(pb_test, pb_pred)])\n",
    "        \n",
    "        "
   ]
  },
  {
   "cell_type": "markdown",
   "metadata": {},
   "source": [
    " "
   ]
  },
  {
   "cell_type": "markdown",
   "metadata": {},
   "source": [
    "## Leave-Replicas-Out cross-validation"
   ]
  },
  {
   "cell_type": "markdown",
   "metadata": {
    "tags": []
   },
   "source": [
    "In the following cell, write and execute your code for Leave-Replicas-Out cross-validation using K-Nearest Neighbor Regression with k values of 1, 3, 5, and 7.<br>\n",
    "Print the corresponding Leave-Replicas-Out C-index for c_total, Cd and Pb for each k value."
   ]
  },
  {
   "cell_type": "code",
   "execution_count": 7,
   "metadata": {},
   "outputs": [
    {
     "name": "stdout",
     "output_type": "stream",
     "text": [
      "C-scores for k value of 1: C_total = 0.843, Cd = 0.757, Pb = 0.740\n",
      "C-scores for k value of 3: C_total = 0.836, Cd = 0.731, Pb = 0.770\n",
      "C-scores for k value of 5: C_total = 0.820, Cd = 0.723, Pb = 0.759\n",
      "C-scores for k value of 7: C_total = 0.831, Cd = 0.758, Pb = 0.754\n"
     ]
    }
   ],
   "source": [
    "#First we need to do some grouping\n",
    "\n",
    "# Create a column with replicas by the metal concentrations\n",
    "d = data.duplicated(subset=labels)\n",
    "\n",
    "# Add the replicas as a column to our original data\n",
    "data[\"groups\"] = d\n",
    "\n",
    "# Modifying this column so, that the replicas all have a same integer as an identifier\n",
    "counter = 0\n",
    "for i, j in enumerate(data[\"groups\"]):\n",
    "    if j == False:\n",
    "        counter += 1\n",
    "        data.loc[i, \"groups\"] = counter\n",
    "    else:\n",
    "        data.loc[i, \"groups\"] = counter\n",
    "        \n",
    "# our k-values which we will do our k-NN with\n",
    "k_values = (1,3,5,7)\n",
    "\n",
    "# initializiing our Leave-One-Out Cross Validation\n",
    "logocv = LeaveOneGroupOut()\n",
    "\n",
    "# Taking our features and labels and modifying them for easier data extraction\n",
    "inputs = data[features]\n",
    "outputs = data[labels]\n",
    "groups = data[\"groups\"]\n",
    "X = inputs.to_numpy()\n",
    "y = outputs.to_numpy()\n",
    "g = groups.to_numpy()\n",
    "\n",
    "# Empty array to score our results in for plotting\n",
    "logocv_scores = []\n",
    "\n",
    "# iterating with our k values\n",
    "for k in k_values:\n",
    "    \n",
    "    # empty arrays to save our test labels\n",
    "    c_total_test = []\n",
    "    cd_test = []\n",
    "    pb_test = []\n",
    "\n",
    "    # empty arrays to save our predicted labels\n",
    "    c_total_pred = []\n",
    "    cd_pred = []\n",
    "    pb_pred = []\n",
    "\n",
    "    # performing the standard logocv split for our data\n",
    "    for train, test in logocv.split(X, y, g):\n",
    "        X_train, X_test = X[train], X[test]\n",
    "        y_train, y_test = y[train], y[test]\n",
    "        \n",
    "        # initializing the model\n",
    "        knn = neighbors.KNeighborsRegressor(n_neighbors=k)\n",
    "        \n",
    "        # fitting our model\n",
    "        knn.fit(X_train, y_train)\n",
    "        \n",
    "        # predicting on our test data\n",
    "        pred_labels = knn.predict(X_test)\n",
    "        \n",
    "        # adding our test labels by column to their arrays\n",
    "        c_total_test.append(y_test[0][0])\n",
    "        cd_test.append(y_test[0][1])\n",
    "        pb_test.append(y_test[0][2])\n",
    "        \n",
    "        # adding our predicted labels by column to  their arrays\n",
    "        c_total_pred.append(pred_labels[0][0])\n",
    "        cd_pred.append(pred_labels[0][1])\n",
    "        pb_pred.append(pred_labels[0][2])\n",
    "        \n",
    "    # final print \n",
    "    print(f\"C-scores for k value of {k}: C_total = {cindex(c_total_test, c_total_pred):.3f}, Cd = {cindex(cd_test, cd_pred):.3f}, Pb = {cindex(pb_test, pb_pred):.3f}\") \n",
    "    \n",
    "    \n",
    "    # this is not optimal but to save time I'll just do it like this\n",
    "    logocv_scores.append([k,cindex(c_total_test, c_total_pred),cindex(cd_test, cd_pred),cindex(pb_test, pb_pred)])"
   ]
  },
  {
   "cell_type": "markdown",
   "metadata": {
    "tags": []
   },
   "source": [
    "## Plot Leave-One-Out and Leave-Replicas-Out Results"
   ]
  },
  {
   "cell_type": "markdown",
   "metadata": {
    "tags": []
   },
   "source": [
    "Note: You may plot the results as they were presented in the video lecture (refer to MOOC2-Module 2 .pptx slides)."
   ]
  },
  {
   "cell_type": "code",
   "execution_count": 8,
   "metadata": {},
   "outputs": [
    {
     "data": {
      "image/png": "[encoded data removed]",
      "text/plain": [
       "<Figure size 1000x500 with 3 Axes>"
      ]
     },
     "metadata": {},
     "output_type": "display_data"
    }
   ],
   "source": [
    "# Initialize subplots\n",
    "fig, axes = plt.subplots(1,3, figsize=(10,5))\n",
    "plot_titles = labels\n",
    "\n",
    "# Transpose our scores to fit better in the plots\n",
    "loocv_trans = list(map(list, zip(*loocv_scores)))\n",
    "logocv_trans = list(map(list, zip(*logocv_scores)))\n",
    "\n",
    "for j in range(3):\n",
    "    axes[j].plot(loocv_trans[0], loocv_trans[j+1], label=\"leave-one-out\", color=\"blue\")\n",
    "    axes[j].plot(logocv_trans[0], logocv_trans[j+1], label=\"leave-one-group-out\", color=\"orange\")\n",
    "    axes[j].set_title(plot_titles[j])\n",
    "    axes[j].set_ylim(0,1)\n",
    "    axes[j].set_xlim(0,8)\n",
    "    axes[j].set_xlabel(\"k value\")\n",
    "    axes[j].set_ylabel(\"c-index\")\n",
    "\n",
    "fig.suptitle(\"C-index for k Nearest Neighbors\")\n",
    "loocv = mpatches.Patch(color=\"blue\", label=\"Leave-One-Out Cross-Validation\")\n",
    "logocv = mpatches.Patch(color=\"orange\", label = \"Leave-Replicas-Out Cross-Validation\")\n",
    "plt.legend(handles=[loocv, logocv], loc=1, bbox_to_anchor=(1.03, 1.3))\n",
    "plt.tight_layout()\n"
   ]
  },
  {
   "cell_type": "markdown",
   "metadata": {},
   "source": [
    "## Interpretation of results\n",
    "#### Answer the following questions based on the results obtained\n",
    "- Which cross-validation method had more optimistic results? \n",
    "- Explain the reason for the optimistic results produced by the cross-validation method.\n",
    "- Which cross-validation method generalized better on unseen data? Why?"
   ]
  },
  {
   "cell_type": "code",
   "execution_count": 13,
   "metadata": {},
   "outputs": [],
   "source": [
    "#In this cell write your answers to the questions.\n",
    "\n",
    "# The Leave-One-Out method had better results altogether.\n",
    "\n",
    "# I think that with the loocv we got more cross-validation subsets which helped the method to achieve better results. We also saw how even if different features came to the same conclusion with the labels multiple times,\n",
    "#it gave the k-NN more data to do predictions with.\n",
    "# Also I think that if we look at the graphs, the LOOCV seems to lose accuracy as k increases which might make the LROCV better with larger k-values that we didn't explore in this exercise.\n",
    "\n",
    "#Since there were almost 70 different groups, the LOOCV performed better. There were no strong groups so that helped with this data. Had there been fewer of the groups, the LROCV could have worked better to capture better estimates on the groups."
   ]
  },
  {
   "cell_type": "code",
   "execution_count": null,
   "metadata": {},
   "outputs": [],
   "source": []
  }
 ],
 "metadata": {
  "kernelspec": {
   "display_name": "Python 3 (ipykernel)",
   "language": "python",
   "name": "python3"
  },
  "language_info": {
   "codemirror_mode": {
    "name": "ipython",
    "version": 3
   },
   "file_extension": ".py",
   "mimetype": "text/x-python",
   "name": "python",
   "nbconvert_exporter": "python",
   "pygments_lexer": "ipython3",
   "version": "3.10.1"
  },
  "toc": {
   "base_numbering": 1,
   "nav_menu": {},
   "number_sections": false,
   "sideBar": true,
   "skip_h1_title": false,
   "title_cell": "Table of Contents",
   "title_sidebar": "Contents",
   "toc_cell": false,
   "toc_position": {},
   "toc_section_display": true,
   "toc_window_display": true
  },
  "varInspector": {
   "cols": {
    "lenName": 16,
    "lenType": 16,
    "lenVar": 40
   },
   "kernels_config": {
    "python": {
     "delete_cmd_postfix": "",
     "delete_cmd_prefix": "del ",
     "library": "var_list.py",
     "varRefreshCmd": "print(var_dic_list())"
    },
    "r": {
     "delete_cmd_postfix": ") ",
     "delete_cmd_prefix": "rm(",
     "library": "var_list.r",
     "varRefreshCmd": "cat(var_dic_list()) "
    }
   },
   "types_to_exclude": [
    "module",
    "function",
    "builtin_function_or_method",
    "instance",
    "_Feature"
   ],
   "window_display": false
  }
 },
 "nbformat": 4,
 "nbformat_minor": 4
}
